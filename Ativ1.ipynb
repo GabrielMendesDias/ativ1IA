{
  "nbformat": 4,
  "nbformat_minor": 0,
  "metadata": {
    "colab": {
      "provenance": []
    },
    "kernelspec": {
      "name": "python3",
      "display_name": "Python 3"
    },
    "language_info": {
      "name": "python"
    }
  },
  "cells": [
    {
      "cell_type": "code",
      "execution_count": null,
      "metadata": {
        "id": "CjH8A5DYeI9I"
      },
      "outputs": [],
      "source": [
        "# Base de Conhecimento\n",
        "#loja de card games\n",
        "Card = [\n",
        "    {\"Título\": \"Card A\", \"Tipo\": \"Rara\", \"Faixa Etária\": \"Jovem\"},\n",
        "    {\"Título\": \"Card B\", \"Tipo\": \"Comum\", \"Faixa Etária\": \"Jovem\"},\n",
        "    # Adicione mais livros conforme necessário\n",
        "]\n",
        "\n",
        "# Regras de Recomendação\n",
        "regras = [\n",
        "    {\"Condição\": {\"Tipo\": \"Rara\", \"Faixa Etária\": \"Jovem\"}, \"Recomendação\": [\"Card A\"]},\n",
        "    {\"Condição\": {\"Tipo\": \"Comum\", \"Faixa Etária\": \"Jovem\"}, \"Recomendação\": [\"Card B\"]},\n",
        "    # Adicione mais regras conforme necessário\n",
        "]\n"
      ]
    },
    {
      "cell_type": "code",
      "source": [
        "def recomendar_Cards(preferencias):\n",
        "    recomendacoes = []\n",
        "    for regra in regras:\n",
        "        condicao = regra[\"Condição\"]\n",
        "        if (preferencias[\"Tipo\"] == condicao[\"Tipo\"] and\n",
        "                preferencias[\"Faixa Etária\"] == condicao[\"Faixa Etária\"]):\n",
        "            recomendacoes.extend(regra[\"Recomendação\"])\n",
        "    return recomendacoes\n"
      ],
      "metadata": {
        "id": "paQFjmBAen9M"
      },
      "execution_count": null,
      "outputs": []
    },
    {
      "cell_type": "code",
      "source": [
        "def main():\n",
        "    # Coletar preferências do usuário\n",
        "    tipo = input(\"Qual Tipo de Card você prefere? \")\n",
        "    faixa_etaria = input(\"Qual é a sua faixa etária? \")\n",
        "\n",
        "    preferencias = {\n",
        "        \"Tipo\": tipo,\n",
        "        \"Faixa Etária\": faixa_etaria\n",
        "    }\n",
        "\n",
        "    # Obter recomendações\n",
        "    Cards_recomendados = recomendar_Cards(preferencias)\n",
        "\n",
        "    # Mostrar recomendações\n",
        "    if Cards_recomendados:\n",
        "        print(\"Cards Recomendados:\")\n",
        "        for Card in Cards_recomendados:\n",
        "            print(f\"- {Card}\")\n",
        "    else:\n",
        "        print(\"Nenhuma recomendação disponível para suas preferências.\")\n",
        "\n",
        "if __name__ == \"__main__\":\n",
        "    main()\n"
      ],
      "metadata": {
        "colab": {
          "base_uri": "https://localhost:8080/"
        },
        "id": "VVGk2FB3er-3",
        "outputId": "73949bf4-92d5-4869-d22b-372b30d110f9"
      },
      "execution_count": null,
      "outputs": [
        {
          "output_type": "stream",
          "name": "stdout",
          "text": [
            "Qual Tipo de Card você prefere? raro\n",
            "Qual é a sua faixa etária? jovem\n",
            "Nenhuma recomendação disponível para suas preferências.\n"
          ]
        }
      ]
    }
  ]
}